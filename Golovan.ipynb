{
  "nbformat": 4,
  "nbformat_minor": 0,
  "metadata": {
    "colab": {
      "provenance": [],
      "authorship_tag": "ABX9TyOPjb9aB/agNEZu+B2060Cb",
      "include_colab_link": true
    },
    "kernelspec": {
      "name": "python3",
      "display_name": "Python 3"
    },
    "language_info": {
      "name": "python"
    }
  },
  "cells": [
    {
      "cell_type": "markdown",
      "metadata": {
        "id": "view-in-github",
        "colab_type": "text"
      },
      "source": [
        "<a href=\"https://colab.research.google.com/github/Malvadet/MSU/blob/main/Golovan.ipynb\" target=\"_parent\"><img src=\"https://colab.research.google.com/assets/colab-badge.svg\" alt=\"Open In Colab\"/></a>"
      ]
    },
    {
      "cell_type": "markdown",
      "source": [
        "Заданы гринвичские координаты:\n",
        "n1 = 2849999.623490, n2 = 2198146.029540,  n3 = 5249201.203518.\n",
        "Для этих координат вычислить значения географических координат. Представить текст программы"
      ],
      "metadata": {
        "id": "-1-gMXROf5P8"
      }
    },
    {
      "cell_type": "markdown",
      "source": [
        "В этом примере кода определена функция `ecef_to_geodetic`, которая принимает гринвичские (геоцентрические) координаты (x, y, z) и возвращает соответствующие географические координаты (широту, долготу, высоту) с использованием параметров эллипсоида WGS84.\n",
        "\n",
        "Вычисление выполняется с использованием алгоритма итераций на основе метода Ньютона-Рафсона. Значения широты, долготы и высоты конвертируются в градусы и метры соответственно.\n",
        "\n",
        "Код затем вызывает эту функцию с предоставленными гринвичскими координатами (n1, n2, n3) и выводит результаты в формате с фиксированной точностью (6 знаков после десятичной точки)."
      ],
      "metadata": {
        "id": "9-Q-dpkOeyI8"
      }
    },
    {
      "cell_type": "code",
      "source": [
        "import math"
      ],
      "metadata": {
        "id": "piqdMSTud30U"
      },
      "execution_count": null,
      "outputs": []
    },
    {
      "cell_type": "code",
      "execution_count": null,
      "metadata": {
        "id": "yGM5PzBsdlIE"
      },
      "outputs": [],
      "source": [
        "def ecef_to_geodetic(x, y, z):\n",
        "    a = 6378137.0  # Большая полуось\n",
        "    f = 1 / 298.257223563  # Сжатие\n",
        "    e2 = 2 * f - f * f  # Квадрат эксцентриситета\n",
        "\n",
        "    p = math.sqrt(x * x + y * y)\n",
        "    theta = math.atan2(z * a, p * (1 - e2 * a))\n",
        "    sin_theta = math.sin(theta)\n",
        "    cos_theta = math.cos(theta)\n",
        "\n",
        "    lon = math.atan2(y, x)\n",
        "    lat = math.atan2(z + e2 * (1 - e2) * a * sin_theta**3, p - e2 * a * cos_theta**3)\n",
        "    N = a / math.sqrt(1 - e2 * math.sin(lat)**2)\n",
        "    alt = p / math.cos(lat) - N\n",
        "\n",
        "    # Конвертируем радианы в градусы\n",
        "    lat = math.degrees(lat)\n",
        "    lon = math.degrees(lon)\n",
        "\n",
        "    return lat, lon, alt"
      ]
    },
    {
      "cell_type": "code",
      "source": [
        "n1 = 2849999.623490\n",
        "n2 = 2198146.029540\n",
        "n3 = 5249201.203518\n",
        "\n",
        "lat, lon, alt = ecef_to_geodetic(n1, n2, n3)\n",
        "\n",
        "print(f\"Широта: {lat:.6f}\")\n",
        "print(f\"Долгота: {lon:.6f}\")\n",
        "print(f\"Высота: {alt:.6f}\")"
      ],
      "metadata": {
        "colab": {
          "base_uri": "https://localhost:8080/"
        },
        "id": "O-kWkDeqd0A0",
        "outputId": "c188b9d5-6031-4537-de7b-a46e36c18bd8"
      },
      "execution_count": null,
      "outputs": [
        {
          "output_type": "stream",
          "name": "stdout",
          "text": [
            "Широта: 55.777499\n",
            "Долгота: 37.642262\n",
            "Высота: 6864.850830\n"
          ]
        }
      ]
    }
  ]
}